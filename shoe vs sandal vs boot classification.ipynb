{
 "cells": [
  {
   "cell_type": "code",
   "execution_count": 8,
   "id": "4678d6d9",
   "metadata": {},
   "outputs": [
    {
     "name": "stdout",
     "output_type": "stream",
     "text": [
      "Found 11940 images belonging to 3 classes.\n",
      "Found 11940 images belonging to 3 classes.\n",
      "Model: \"sequential_2\"\n",
      "_________________________________________________________________\n",
      " Layer (type)                Output Shape              Param #   \n",
      "=================================================================\n",
      " conv2d_6 (Conv2D)           (None, 198, 198, 16)      448       \n",
      "                                                                 \n",
      " max_pooling2d_6 (MaxPooling  (None, 99, 99, 16)       0         \n",
      " 2D)                                                             \n",
      "                                                                 \n",
      " conv2d_7 (Conv2D)           (None, 97, 97, 32)        4640      \n",
      "                                                                 \n",
      " max_pooling2d_7 (MaxPooling  (None, 48, 48, 32)       0         \n",
      " 2D)                                                             \n",
      "                                                                 \n",
      " conv2d_8 (Conv2D)           (None, 46, 46, 64)        18496     \n",
      "                                                                 \n",
      " max_pooling2d_8 (MaxPooling  (None, 23, 23, 64)       0         \n",
      " 2D)                                                             \n",
      "                                                                 \n",
      " flatten_2 (Flatten)         (None, 33856)             0         \n",
      "                                                                 \n",
      " dense_4 (Dense)             (None, 512)               17334784  \n",
      "                                                                 \n",
      " dense_5 (Dense)             (None, 3)                 1539      \n",
      "                                                                 \n",
      "=================================================================\n",
      "Total params: 17,359,907\n",
      "Trainable params: 17,359,907\n",
      "Non-trainable params: 0\n",
      "_________________________________________________________________\n",
      "Epoch 1/14\n",
      "250/250 [==============================] - 169s 677ms/step - loss: 0.4255 - accuracy: 0.8580 - val_loss: 0.3384 - val_accuracy: 0.8818\n",
      "Epoch 2/14\n",
      "250/250 [==============================] - 169s 676ms/step - loss: 0.2029 - accuracy: 0.9264 - val_loss: 0.1491 - val_accuracy: 0.9474\n",
      "Epoch 3/14\n",
      "250/250 [==============================] - 168s 674ms/step - loss: 0.1440 - accuracy: 0.9510 - val_loss: 0.0992 - val_accuracy: 0.9673\n",
      "Epoch 4/14\n",
      "250/250 [==============================] - 168s 672ms/step - loss: 0.1253 - accuracy: 0.9584 - val_loss: 0.0724 - val_accuracy: 0.9770\n",
      "Epoch 5/14\n",
      "250/250 [==============================] - 166s 665ms/step - loss: 0.0897 - accuracy: 0.9712 - val_loss: 0.0762 - val_accuracy: 0.9743\n",
      "Epoch 6/14\n",
      "250/250 [==============================] - 166s 665ms/step - loss: 0.0692 - accuracy: 0.9742 - val_loss: 0.0390 - val_accuracy: 0.9868\n",
      "Epoch 7/14\n",
      "250/250 [==============================] - 165s 662ms/step - loss: 0.0469 - accuracy: 0.9826 - val_loss: 0.0618 - val_accuracy: 0.9790\n",
      "Epoch 8/14\n",
      "250/250 [==============================] - 167s 667ms/step - loss: 0.0353 - accuracy: 0.9882 - val_loss: 0.0263 - val_accuracy: 0.9907\n",
      "Epoch 9/14\n",
      "250/250 [==============================] - 166s 667ms/step - loss: 0.0327 - accuracy: 0.9890 - val_loss: 0.0207 - val_accuracy: 0.9921\n",
      "Epoch 10/14\n",
      "250/250 [==============================] - 165s 662ms/step - loss: 0.0340 - accuracy: 0.9886 - val_loss: 0.0270 - val_accuracy: 0.9911\n",
      "Epoch 11/14\n",
      "250/250 [==============================] - 167s 667ms/step - loss: 0.0277 - accuracy: 0.9906 - val_loss: 0.0661 - val_accuracy: 0.9776\n",
      "Epoch 12/14\n",
      "250/250 [==============================] - 166s 664ms/step - loss: 0.0259 - accuracy: 0.9916 - val_loss: 0.0096 - val_accuracy: 0.9975\n",
      "Epoch 13/14\n",
      "250/250 [==============================] - 169s 675ms/step - loss: 0.0203 - accuracy: 0.9946 - val_loss: 0.0145 - val_accuracy: 0.9954\n",
      "Epoch 14/14\n",
      "250/250 [==============================] - 168s 673ms/step - loss: 0.0222 - accuracy: 0.9934 - val_loss: 0.0246 - val_accuracy: 0.9915\n"
     ]
    },
    {
     "data": {
      "text/plain": [
       "<keras.callbacks.History at 0x18a85baa1f0>"
      ]
     },
     "execution_count": 8,
     "metadata": {},
     "output_type": "execute_result"
    }
   ],
   "source": [
    "import tensorflow as tf\n",
    "import pandas as pd\n",
    "import cv2\n",
    "import matplotlib.pyplot as plt\n",
    "import os\n",
    "import numpy as np\n",
    "from tensorflow.keras.preprocessing.image import ImageDataGenerator \n",
    "from tensorflow.keras.preprocessing import image\n",
    "img = image.load_img('Sandale.jpg')\n",
    "cv2.imread('Sandale.jpg').shape\n",
    "train = ImageDataGenerator(rescale = 1/255)\n",
    "val = ImageDataGenerator(rescale = 1/255)\n",
    "train_dataset = train.flow_from_directory('train', target_size = (200,200), batch_size = 20, class_mode ='categorical') \n",
    "val_dataset = val.flow_from_directory('train', target_size = (200,200), batch_size = 20, class_mode ='categorical') \n",
    "class_indices = train_dataset.class_indices\n",
    "train_dataset.classes\n",
    "model = tf.keras.models.Sequential([tf.keras.layers.Conv2D(16,(3,3), activation = 'relu', input_shape=(200,200,3)),\n",
    "                                   tf.keras.layers.MaxPool2D(2,2),\n",
    "                                \n",
    "                                   tf.keras.layers.Conv2D(32,(3,3), activation = 'relu'),\n",
    "                                    tf.keras.layers.MaxPool2D(2,2),\n",
    "                                    tf.keras.layers.Conv2D(64,(3,3), activation = 'relu'),\n",
    "                                    tf.keras.layers.MaxPool2D(2,2),\n",
    "                                    tf.keras.layers.Flatten(),\n",
    "                                    tf.keras.layers.Dense(512, activation = 'relu'),\n",
    "                                    tf.keras.layers.Dense(3, activation = 'softmax')\n",
    "                                                          ])\n",
    "model.compile(loss = 'categorical_crossentropy', metrics = ['accuracy'], optimizer='adam')\n",
    "model.summary()\n",
    "model.fit(train_dataset, epochs=14, steps_per_epoch = 250, validation_data = val_dataset)"
   ]
  }
 ],
 "metadata": {
  "kernelspec": {
   "display_name": "Python 3 (ipykernel)",
   "language": "python",
   "name": "python3"
  },
  "language_info": {
   "codemirror_mode": {
    "name": "ipython",
    "version": 3
   },
   "file_extension": ".py",
   "mimetype": "text/x-python",
   "name": "python",
   "nbconvert_exporter": "python",
   "pygments_lexer": "ipython3",
   "version": "3.9.12"
  }
 },
 "nbformat": 4,
 "nbformat_minor": 5
}
